{
 "cells": [
  {
   "cell_type": "code",
   "execution_count": 1,
   "metadata": {},
   "outputs": [],
   "source": [
    "import os\n",
    "import numpy as np\n",
    "import torch\n",
    "import torch.nn as nn\n",
    "import torchvision\n",
    "from torch.optim.lr_scheduler import StepLR\n",
    "\n",
    "from model import EfficientNet_B0\n",
    "\n",
    "from torchvision import transforms\n",
    "from sklearn.metrics import average_precision_score\n",
    "from PIL import Image, ImageDraw\n",
    "import matplotlib.pyplot as plt\n",
    "from voc_dataloader import VocDataset, VOC_CLASSES\n",
    "\n",
    "%load_ext autoreload\n",
    "%autoreload 2"
   ]
  },
  {
   "cell_type": "code",
   "execution_count": 2,
   "metadata": {},
   "outputs": [
    {
     "name": "stdout",
     "output_type": "stream",
     "text": [
      "Downloading https://www.cs.toronto.edu/~kriz/cifar-10-python.tar.gz to ./data\\cifar-10-python.tar.gz\n"
     ]
    },
    {
     "data": {
      "application/vnd.jupyter.widget-view+json": {
       "model_id": "fab4dcdcf9be4ec9be92f7e58139c776",
       "version_major": 2,
       "version_minor": 0
      },
      "text/plain": [
       "HBox(children=(FloatProgress(value=1.0, bar_style='info', max=1.0), HTML(value='')))"
      ]
     },
     "metadata": {},
     "output_type": "display_data"
    },
    {
     "name": "stdout",
     "output_type": "stream",
     "text": [
      "Extracting ./data\\cifar-10-python.tar.gz to ./data\n",
      "Files already downloaded and verified\n"
     ]
    }
   ],
   "source": [
    "batch = 128\n",
    "\n",
    "transform = transforms.Compose(\n",
    "    [transforms.RandomHorizontalFlip(),\n",
    "     transforms.ToTensor(),\n",
    "     transforms.Normalize((0.5, 0.5, 0.5), (0.5, 0.5, 0.5))])\n",
    "\n",
    "trainset = torchvision.datasets.CIFAR10(root='./data', train=True,\n",
    "                                        download=True, transform=transform)\n",
    "trainloader = torch.utils.data.DataLoader(trainset, batch_size=batch,\n",
    "                                          shuffle=True, num_workers=4)\n",
    "\n",
    "testset = torchvision.datasets.CIFAR10(root='./data', train=False,\n",
    "                                       download=True, transform=transform)\n",
    "testloader = torch.utils.data.DataLoader(testset, batch_size=batch,\n",
    "                                         shuffle=False, num_workers=4)\n",
    "\n",
    "classes = ('plane', 'car', 'bird', 'cat',\n",
    "           'deer', 'dog', 'frog', 'horse', 'ship', 'truck')"
   ]
  },
  {
   "cell_type": "code",
   "execution_count": 3,
   "metadata": {},
   "outputs": [],
   "source": [
    "device = torch.device(\"cuda:0\" if torch.cuda.is_available() else \"cpu\")\n",
    "\n",
    "classifier = EfficientNet_B0().to(device)\n",
    "\n",
    "criterion = nn.CrossEntropyLoss()\n",
    "\n",
    "optimizer = torch.optim.SGD(classifier.parameters(), lr=0.001, momentum=0.9)\n",
    "# optimizer = torch.optim.Adam(classifier.parameters(), lr=1e-4)"
   ]
  },
  {
   "cell_type": "code",
   "execution_count": 4,
   "metadata": {},
   "outputs": [
    {
     "name": "stdout",
     "output_type": "stream",
     "text": [
      "[1,   200] loss: 2.444\n",
      "[2,   200] loss: 1.697\n",
      "[3,   200] loss: 1.511\n",
      "[4,   200] loss: 1.390\n",
      "[5,   200] loss: 1.304\n",
      "[6,   200] loss: 1.242\n",
      "[7,   200] loss: 1.178\n",
      "[8,   200] loss: 1.128\n",
      "[9,   200] loss: 1.071\n",
      "[10,   200] loss: 1.031\n",
      "[11,   200] loss: 0.989\n",
      "[12,   200] loss: 0.941\n",
      "[13,   200] loss: 0.915\n",
      "[14,   200] loss: 0.864\n",
      "[15,   200] loss: 0.830\n",
      "[16,   200] loss: 0.805\n",
      "[17,   200] loss: 0.774\n",
      "[18,   200] loss: 0.742\n",
      "[19,   200] loss: 0.712\n",
      "[20,   200] loss: 0.689\n",
      "[21,   200] loss: 0.658\n",
      "[22,   200] loss: 0.626\n",
      "[23,   200] loss: 0.593\n",
      "[24,   200] loss: 0.586\n",
      "[25,   200] loss: 0.565\n",
      "[26,   200] loss: 0.538\n",
      "[27,   200] loss: 0.521\n",
      "[28,   200] loss: 0.483\n",
      "[29,   200] loss: 0.473\n",
      "[30,   200] loss: 0.459\n",
      "[31,   200] loss: 0.434\n",
      "[32,   200] loss: 0.422\n",
      "[33,   200] loss: 0.409\n",
      "[34,   200] loss: 0.392\n",
      "[35,   200] loss: 0.367\n",
      "[36,   200] loss: 0.357\n",
      "[37,   200] loss: 0.344\n",
      "[38,   200] loss: 0.342\n",
      "[39,   200] loss: 0.319\n",
      "[40,   200] loss: 0.316\n",
      "[41,   200] loss: 0.293\n",
      "[42,   200] loss: 0.286\n",
      "[43,   200] loss: 0.271\n",
      "[44,   200] loss: 0.258\n",
      "[45,   200] loss: 0.256\n",
      "[46,   200] loss: 0.250\n",
      "[47,   200] loss: 0.241\n",
      "[48,   200] loss: 0.223\n",
      "[49,   200] loss: 0.232\n",
      "[50,   200] loss: 0.213\n",
      "[51,   200] loss: 0.216\n",
      "[52,   200] loss: 0.198\n",
      "[53,   200] loss: 0.180\n",
      "[54,   200] loss: 0.187\n",
      "[55,   200] loss: 0.182\n",
      "[56,   200] loss: 0.178\n",
      "[57,   200] loss: 0.176\n",
      "[58,   200] loss: 0.168\n",
      "[59,   200] loss: 0.159\n",
      "[60,   200] loss: 0.157\n",
      "[61,   200] loss: 0.150\n",
      "[62,   200] loss: 0.157\n",
      "[63,   200] loss: 0.149\n",
      "[64,   200] loss: 0.142\n",
      "[65,   200] loss: 0.138\n",
      "[66,   200] loss: 0.135\n",
      "[67,   200] loss: 0.133\n",
      "[68,   200] loss: 0.126\n",
      "[69,   200] loss: 0.123\n",
      "[70,   200] loss: 0.117\n",
      "[71,   200] loss: 0.117\n",
      "[72,   200] loss: 0.110\n",
      "[73,   200] loss: 0.127\n",
      "[74,   200] loss: 0.116\n",
      "[75,   200] loss: 0.111\n",
      "[76,   200] loss: 0.100\n",
      "[77,   200] loss: 0.103\n",
      "[78,   200] loss: 0.094\n",
      "[79,   200] loss: 0.112\n",
      "[80,   200] loss: 0.094\n",
      "[81,   200] loss: 0.085\n",
      "[82,   200] loss: 0.098\n",
      "[83,   200] loss: 0.092\n",
      "[84,   200] loss: 0.093\n",
      "[85,   200] loss: 0.080\n",
      "[86,   200] loss: 0.095\n",
      "[87,   200] loss: 0.086\n",
      "[88,   200] loss: 0.075\n",
      "[89,   200] loss: 0.081\n",
      "[90,   200] loss: 0.090\n",
      "[91,   200] loss: 0.081\n",
      "[92,   200] loss: 0.082\n",
      "[93,   200] loss: 0.081\n",
      "[94,   200] loss: 0.071\n",
      "[95,   200] loss: 0.069\n",
      "[96,   200] loss: 0.074\n",
      "[97,   200] loss: 0.066\n",
      "[98,   200] loss: 0.065\n",
      "[99,   200] loss: 0.060\n",
      "[100,   200] loss: 0.062\n",
      "Finished Training\n"
     ]
    }
   ],
   "source": [
    "for epoch in range(100):  # loop over the dataset multiple times\n",
    "\n",
    "    running_loss = 0.0\n",
    "    for i, data in enumerate(trainloader, 0):\n",
    "        # get the inputs; data is a list of [inputs, labels]\n",
    "        inputs, labels = data[0].to(device), data[1].to(device)\n",
    "\n",
    "        # zero the parameter gradients\n",
    "        optimizer.zero_grad()\n",
    "\n",
    "        # forward + backward + optimize\n",
    "        outputs = classifier(inputs)\n",
    "        loss = criterion(outputs, labels)\n",
    "        loss.backward()\n",
    "        optimizer.step()\n",
    "\n",
    "        # print statistics\n",
    "        running_loss += loss.item()\n",
    "        if i % 200 == 199:    # print every 100 mini-batches\n",
    "            print('[%d, %5d] loss: %.3f' %\n",
    "                  (epoch + 1, i + 1, running_loss / 199))\n",
    "            running_loss = 0.0\n",
    "\n",
    "print('Finished Training')"
   ]
  },
  {
   "cell_type": "code",
   "execution_count": 5,
   "metadata": {},
   "outputs": [
    {
     "data": {
      "image/png": "[encoded data removed]",
      "text/plain": [
       "<Figure size 432x288 with 1 Axes>"
      ]
     },
     "metadata": {
      "needs_background": "light"
     },
     "output_type": "display_data"
    },
    {
     "name": "stdout",
     "output_type": "stream",
     "text": [
      " ship  frog plane   cat\n"
     ]
    }
   ],
   "source": [
    "import matplotlib.pyplot as plt\n",
    "import numpy as np\n",
    "\n",
    "# functions to show an image\n",
    "\n",
    "\n",
    "def imshow(img):\n",
    "    img = img / 2 + 0.5     # unnormalize\n",
    "    npimg = img.numpy()\n",
    "    plt.imshow(np.transpose(npimg, (1, 2, 0)))\n",
    "    plt.show()\n",
    "\n",
    "\n",
    "# get some random training images\n",
    "dataiter = iter(trainloader)\n",
    "images, labels = dataiter.next()\n",
    "\n",
    "# show images\n",
    "imshow(torchvision.utils.make_grid(images[0:4]))\n",
    "# print labels\n",
    "print(' '.join('%5s' % classes[labels[j]] for j in range(4)))"
   ]
  },
  {
   "cell_type": "code",
   "execution_count": 6,
   "metadata": {},
   "outputs": [
    {
     "name": "stdout",
     "output_type": "stream",
     "text": [
      "Predicted:   ship  frog plane   cat\n"
     ]
    }
   ],
   "source": [
    "outputs = classifier(images.to(device))\n",
    "_, predicted = torch.max(outputs, 1)\n",
    "\n",
    "print('Predicted: ', ' '.join('%5s' % classes[predicted[j]]\n",
    "                              for j in range(4)))"
   ]
  },
  {
   "cell_type": "code",
   "execution_count": 7,
   "metadata": {},
   "outputs": [
    {
     "name": "stdout",
     "output_type": "stream",
     "text": [
      "Accuracy of the network on the 10000 test images: 62 %\n"
     ]
    }
   ],
   "source": [
    "correct = 0\n",
    "total = 0\n",
    "with torch.no_grad():\n",
    "    for data in testloader:\n",
    "        images, labels = data[0].to(device), data[1].to(device)\n",
    "        outputs = classifier(images)\n",
    "        _, predicted = torch.max(outputs.data, 1)\n",
    "        total += labels.size(0)\n",
    "        correct += (predicted == labels).sum().item()\n",
    "\n",
    "print('Accuracy of the network on the 10000 test images: %d %%' % (\n",
    "    100 * correct / total))"
   ]
  },
  {
   "cell_type": "code",
   "execution_count": 8,
   "metadata": {},
   "outputs": [
    {
     "name": "stdout",
     "output_type": "stream",
     "text": [
      "Accuracy of plane : 65 %\n",
      "Accuracy of   car : 78 %\n",
      "Accuracy of  bird : 45 %\n",
      "Accuracy of   cat : 44 %\n",
      "Accuracy of  deer : 44 %\n",
      "Accuracy of   dog : 54 %\n",
      "Accuracy of  frog : 69 %\n",
      "Accuracy of horse : 52 %\n",
      "Accuracy of  ship : 81 %\n",
      "Accuracy of truck : 74 %\n"
     ]
    }
   ],
   "source": [
    "class_correct = list(0. for i in range(10))\n",
    "class_total = list(0. for i in range(10))\n",
    "with torch.no_grad():\n",
    "    for data in testloader:\n",
    "        images, labels = data[0].to(device), data[1].to(device)\n",
    "        outputs = classifier(images)\n",
    "        _, predicted = torch.max(outputs, 1)\n",
    "        c = (predicted == labels).squeeze()\n",
    "        for i in range(4):\n",
    "            label = labels[i]\n",
    "            class_correct[label] += c[i].item()\n",
    "            class_total[label] += 1\n",
    "\n",
    "\n",
    "for i in range(10):\n",
    "    print('Accuracy of %5s : %2d %%' % (\n",
    "        classes[i], 100 * class_correct[i] / class_total[i]))"
   ]
  },
  {
   "cell_type": "markdown",
   "metadata": {},
   "source": [
    "## Luke's pretrianed model"
   ]
  },
  {
   "cell_type": "code",
   "execution_count": null,
   "metadata": {},
   "outputs": [],
   "source": [
    "\n"
   ]
  },
  {
   "cell_type": "code",
   "execution_count": null,
   "metadata": {},
   "outputs": [],
   "source": []
  }
 ],
 "metadata": {
  "kernelspec": {
   "display_name": "Python 3",
   "language": "python",
   "name": "python3"
  },
  "language_info": {
   "codemirror_mode": {
    "name": "ipython",
    "version": 3
   },
   "file_extension": ".py",
   "mimetype": "text/x-python",
   "name": "python",
   "nbconvert_exporter": "python",
   "pygments_lexer": "ipython3",
   "version": "3.8.3"
  }
 },
 "nbformat": 4,
 "nbformat_minor": 4
}
